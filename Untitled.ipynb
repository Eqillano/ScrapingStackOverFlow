{
 "cells": [
  {
   "cell_type": "code",
   "execution_count": 71,
   "metadata": {},
   "outputs": [],
   "source": [
    "import requests\n",
    "from requests_html import HTML\n",
    "import pandas as pd\n",
    "import time\n"
   ]
  },
  {
   "cell_type": "code",
   "execution_count": 3,
   "metadata": {},
   "outputs": [
    {
     "data": {
      "text/plain": [
       "'https://stackoverflow.com/questions/tagged/python'"
      ]
     },
     "execution_count": 3,
     "metadata": {},
     "output_type": "execute_result"
    }
   ],
   "source": [
    "base_url = 'https://stackoverflow.com/questions/tagged/'\n",
    "tag = 'python'\n",
    "query_filter = 'Votes'\n",
    "url = f\"{base_url}{tag}?tab={query_filter}\"\n",
    "url"
   ]
  },
  {
   "cell_type": "code",
   "execution_count": 6,
   "metadata": {},
   "outputs": [],
   "source": [
    "r = requests.get(url)\n",
    "html_string = r.text"
   ]
  },
  {
   "cell_type": "code",
   "execution_count": 8,
   "metadata": {},
   "outputs": [],
   "source": [
    "html = HTML(html=html_string)"
   ]
  },
  {
   "cell_type": "code",
   "execution_count": 9,
   "metadata": {},
   "outputs": [],
   "source": [
    "question_summaries = html.find('.question-summary')"
   ]
  },
  {
   "cell_type": "code",
   "execution_count": 13,
   "metadata": {},
   "outputs": [
    {
     "name": "stdout",
     "output_type": "stream",
     "text": [
      "0\n",
      "votes\n",
      "0answers\n",
      "5 views\n",
      "Clip whitespace in matplotlib figure when using set_aspect\n",
      "I am working on a visualization of angular data, categorized by the sides of a square. I define a grid of subplots for each side of the square and plot a histogram of the angles for each side of the ...\n",
      "python matplotlib figure clip\n",
      "asked 38 mins ago\n",
      "harry_k\n",
      "922 bronze badges\n"
     ]
    }
   ],
   "source": [
    "print(question_summaries[-1].text)"
   ]
  },
  {
   "cell_type": "code",
   "execution_count": 14,
   "metadata": {},
   "outputs": [],
   "source": [
    "columns = ['votes','vote_title','num_answers','views','question','short_desc','tags','date','user','user_detail']"
   ]
  },
  {
   "cell_type": "code",
   "execution_count": 17,
   "metadata": {},
   "outputs": [
    {
     "name": "stdout",
     "output_type": "stream",
     "text": [
      "['0', 'votes', '0answers', '4 views', 'Is there a way to retrieve the last month of a date from the current one?', \"In PHP I have something like this: $previous_date = date('m_Y'. strtotime('last month')); which stores in '$previous_date' variable a string composed by the last month (taking into account the ...\", 'python php', 'asked 38 secs ago', 'Napoleone Capasso', '2733 bronze badges']\n"
     ]
    }
   ],
   "source": [
    "this_row = list(question_summaries[0].text.split('\\n'))\n",
    "print(this_row)"
   ]
  },
  {
   "cell_type": "code",
   "execution_count": 35,
   "metadata": {},
   "outputs": [
    {
     "data": {
      "text/plain": [
       "'0'"
      ]
     },
     "execution_count": 35,
     "metadata": {},
     "output_type": "execute_result"
    }
   ],
   "source": [
    "key_names = ['question','votes','tags']\n",
    "classes_needed = ['.question-hyperlink','.vote','.tags']\n",
    "this_question_element = question_summaries[0]\n",
    "this_question_element.find('.question-hyperlink',first=True).text\n",
    "this_question_element.find('.vote',first=True).text.replace('\\nvotes','')"
   ]
  },
  {
   "cell_type": "code",
   "execution_count": 39,
   "metadata": {},
   "outputs": [],
   "source": [
    "def clean_scraped_data(text):\n",
    "    if keyname == 'votes':\n",
    "        return text.replace('\\nvotes','')\n",
    "    return text"
   ]
  },
  {
   "cell_type": "code",
   "execution_count": 37,
   "metadata": {},
   "outputs": [
    {
     "data": {
      "text/plain": [
       "{'question': 'Is there a way to retrieve the last month of a date from the current one?',\n",
       " 'votes': '0',\n",
       " 'tags': 'python php'}"
      ]
     },
     "execution_count": 37,
     "metadata": {},
     "output_type": "execute_result"
    }
   ],
   "source": [
    "datas = []\n",
    "for q_el in question_summaries:\n",
    "    question_data = {}\n",
    "    for i,_class in enumerate(classes_needed):\n",
    "        sub_el = q_el.find(_class,first=True)\n",
    "        keyname = key_names[i]\n",
    "        question_data[keyname] = clean_scraped_data(sub_el.text)\n",
    "    datas.append(question_data)\n",
    "\n",
    "datas[0]"
   ]
  },
  {
   "cell_type": "code",
   "execution_count": 40,
   "metadata": {},
   "outputs": [
    {
     "data": {
      "text/plain": [
       "{'question': 'Is there a way to retrieve the last month of a date from the current one?',\n",
       " 'votes': '0',\n",
       " 'tags': 'python php'}"
      ]
     },
     "execution_count": 40,
     "metadata": {},
     "output_type": "execute_result"
    }
   ],
   "source": [
    "datas[0]"
   ]
  },
  {
   "cell_type": "code",
   "execution_count": 68,
   "metadata": {},
   "outputs": [],
   "source": [
    "def parse_tagged_page(html):\n",
    "    question_summaries = html.find('.question-summary')\n",
    "    key_names = ['question','votes','tags']\n",
    "    classes_needed = ['.question-hyperlink','.vote','.tags']\n",
    "    datas = []\n",
    "    for q_el in question_summaries:\n",
    "        question_data = {}\n",
    "        for i,_class in enumerate(classes_needed):\n",
    "            sub_el = q_el.find(_class,first=True)\n",
    "            keyname = key_names[i]\n",
    "            question_data[keyname] = clean_scraped_data(sub_el.text)\n",
    "        datas.append(question_data)\n",
    "    return datas\n",
    "    "
   ]
  },
  {
   "cell_type": "code",
   "execution_count": 67,
   "metadata": {},
   "outputs": [],
   "source": [
    "def extract_data_from_url(url):\n",
    "    r = requests.get(url)\n",
    "    if r.status_code not in range(200,299):\n",
    "        return []\n",
    "    html_str = r.text\n",
    "    html = HTML(html=html_str)\n",
    "    datas = parse_tagged_page(html)\n",
    "    return datas"
   ]
  },
  {
   "cell_type": "code",
   "execution_count": 72,
   "metadata": {},
   "outputs": [],
   "source": [
    "def scrape_tag(tag='python',query_filter='Votes',max_pages=50,pagesize=25):\n",
    "    base_url = 'https://stackoverflow.com/questions/tagged/'\n",
    "    datas = []\n",
    "    for p in range(max_pages):\n",
    "        #print(p)\n",
    "        page_num = p + 1\n",
    "        url = f\"{base_url}{tag}?tab={query_filter}&page={page_num}&pagesize={pagesize}\"\n",
    "        datas += extract_data_from_url(url)\n",
    "        time.sleep(1.2)\n",
    "    return datas"
   ]
  },
  {
   "cell_type": "code",
   "execution_count": 70,
   "metadata": {},
   "outputs": [],
   "source": [
    "datas = scrape_tag(tag='python')"
   ]
  },
  {
   "cell_type": "code",
   "execution_count": 73,
   "metadata": {},
   "outputs": [
    {
     "data": {
      "text/plain": [
       "2500"
      ]
     },
     "execution_count": 73,
     "metadata": {},
     "output_type": "execute_result"
    }
   ],
   "source": [
    "len(datas)"
   ]
  },
  {
   "cell_type": "code",
   "execution_count": 75,
   "metadata": {},
   "outputs": [
    {
     "data": {
      "text/html": [
       "<div>\n",
       "<style scoped>\n",
       "    .dataframe tbody tr th:only-of-type {\n",
       "        vertical-align: middle;\n",
       "    }\n",
       "\n",
       "    .dataframe tbody tr th {\n",
       "        vertical-align: top;\n",
       "    }\n",
       "\n",
       "    .dataframe thead th {\n",
       "        text-align: right;\n",
       "    }\n",
       "</style>\n",
       "<table border=\"1\" class=\"dataframe\">\n",
       "  <thead>\n",
       "    <tr style=\"text-align: right;\">\n",
       "      <th></th>\n",
       "      <th>question</th>\n",
       "      <th>votes</th>\n",
       "      <th>tags</th>\n",
       "    </tr>\n",
       "  </thead>\n",
       "  <tbody>\n",
       "    <tr>\n",
       "      <th>0</th>\n",
       "      <td>What does the “yield” keyword do?</td>\n",
       "      <td>10296\\nvotes</td>\n",
       "      <td>python iterator generator yield coroutine</td>\n",
       "    </tr>\n",
       "    <tr>\n",
       "      <th>1</th>\n",
       "      <td>What does if __name__ == “__main__”: do?</td>\n",
       "      <td>6135\\nvotes</td>\n",
       "      <td>python namespaces main python-module idioms</td>\n",
       "    </tr>\n",
       "    <tr>\n",
       "      <th>2</th>\n",
       "      <td>Does Python have a ternary conditional operator?</td>\n",
       "      <td>6115\\nvotes</td>\n",
       "      <td>python operators ternary-operator conditional-...</td>\n",
       "    </tr>\n",
       "    <tr>\n",
       "      <th>3</th>\n",
       "      <td>What are metaclasses in Python?</td>\n",
       "      <td>5755\\nvotes</td>\n",
       "      <td>python oop metaclass python-datamodel</td>\n",
       "    </tr>\n",
       "    <tr>\n",
       "      <th>4</th>\n",
       "      <td>How do I check whether a file exists without e...</td>\n",
       "      <td>5660\\nvotes</td>\n",
       "      <td>python file file-exists</td>\n",
       "    </tr>\n",
       "  </tbody>\n",
       "</table>\n",
       "</div>"
      ],
      "text/plain": [
       "                                            question         votes  \\\n",
       "0                  What does the “yield” keyword do?  10296\\nvotes   \n",
       "1           What does if __name__ == “__main__”: do?   6135\\nvotes   \n",
       "2   Does Python have a ternary conditional operator?   6115\\nvotes   \n",
       "3                    What are metaclasses in Python?   5755\\nvotes   \n",
       "4  How do I check whether a file exists without e...   5660\\nvotes   \n",
       "\n",
       "                                                tags  \n",
       "0          python iterator generator yield coroutine  \n",
       "1        python namespaces main python-module idioms  \n",
       "2  python operators ternary-operator conditional-...  \n",
       "3              python oop metaclass python-datamodel  \n",
       "4                            python file file-exists  "
      ]
     },
     "execution_count": 75,
     "metadata": {},
     "output_type": "execute_result"
    }
   ],
   "source": [
    "df = pd.DataFrame(datas)\n",
    "df.head()"
   ]
  },
  {
   "cell_type": "code",
   "execution_count": null,
   "metadata": {},
   "outputs": [],
   "source": []
  }
 ],
 "metadata": {
  "kernelspec": {
   "display_name": "Python 3",
   "language": "python",
   "name": "python3"
  },
  "language_info": {
   "codemirror_mode": {
    "name": "ipython",
    "version": 3
   },
   "file_extension": ".py",
   "mimetype": "text/x-python",
   "name": "python",
   "nbconvert_exporter": "python",
   "pygments_lexer": "ipython3",
   "version": "3.7.6"
  }
 },
 "nbformat": 4,
 "nbformat_minor": 4
}
