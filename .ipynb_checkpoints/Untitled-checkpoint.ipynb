{
 "cells": [
  {
   "cell_type": "code",
   "execution_count": 1,
   "metadata": {},
   "outputs": [],
   "source": [
    "import requests\n",
    "from requests_html import HTML\n"
   ]
  },
  {
   "cell_type": "code",
   "execution_count": 3,
   "metadata": {},
   "outputs": [
    {
     "data": {
      "text/plain": [
       "'https://stackoverflow.com/questions/tagged/python'"
      ]
     },
     "execution_count": 3,
     "metadata": {},
     "output_type": "execute_result"
    }
   ],
   "source": [
    "base_url = 'https://stackoverflow.com/questions/tagged/'\n",
    "tag = 'python'\n",
    "query_filter = 'Votes'\n",
    "url = f\"{base_url}{tag}?tab={query_filter}\"\n",
    "url"
   ]
  },
  {
   "cell_type": "code",
   "execution_count": 6,
   "metadata": {},
   "outputs": [],
   "source": [
    "r = requests.get(url)\n",
    "html_string = r.text"
   ]
  },
  {
   "cell_type": "code",
   "execution_count": 8,
   "metadata": {},
   "outputs": [],
   "source": [
    "html = HTML(html=html_string)"
   ]
  },
  {
   "cell_type": "code",
   "execution_count": 9,
   "metadata": {},
   "outputs": [],
   "source": [
    "question_summaries = html.find('.question-summary')"
   ]
  },
  {
   "cell_type": "code",
   "execution_count": 13,
   "metadata": {},
   "outputs": [
    {
     "name": "stdout",
     "output_type": "stream",
     "text": [
      "0\n",
      "votes\n",
      "0answers\n",
      "5 views\n",
      "Clip whitespace in matplotlib figure when using set_aspect\n",
      "I am working on a visualization of angular data, categorized by the sides of a square. I define a grid of subplots for each side of the square and plot a histogram of the angles for each side of the ...\n",
      "python matplotlib figure clip\n",
      "asked 38 mins ago\n",
      "harry_k\n",
      "922 bronze badges\n"
     ]
    }
   ],
   "source": [
    "print(question_summaries[-1].text)"
   ]
  },
  {
   "cell_type": "code",
   "execution_count": 14,
   "metadata": {},
   "outputs": [],
   "source": [
    "columns = ['votes','vote_title','num_answers','views','question','short_desc','tags','date','user','user_detail']"
   ]
  },
  {
   "cell_type": "code",
   "execution_count": 17,
   "metadata": {},
   "outputs": [
    {
     "name": "stdout",
     "output_type": "stream",
     "text": [
      "['0', 'votes', '0answers', '4 views', 'Is there a way to retrieve the last month of a date from the current one?', \"In PHP I have something like this: $previous_date = date('m_Y'. strtotime('last month')); which stores in '$previous_date' variable a string composed by the last month (taking into account the ...\", 'python php', 'asked 38 secs ago', 'Napoleone Capasso', '2733 bronze badges']\n"
     ]
    }
   ],
   "source": [
    "this_row = list(question_summaries[0].text.split('\\n'))\n",
    "print(this_row)"
   ]
  },
  {
   "cell_type": "code",
   "execution_count": 26,
   "metadata": {},
   "outputs": [
    {
     "data": {
      "text/plain": [
       "'0'"
      ]
     },
     "execution_count": 26,
     "metadata": {},
     "output_type": "execute_result"
    }
   ],
   "source": [
    "key_names = ['question','votes']\n",
    "classes_needed = ['.question-hyperlink','.vote','.tags']\n",
    "this_question_element = question_summaries[0]\n",
    "this_question_element.find('.question-hyperlink',first=True).text\n",
    "this_question_element.find('.vote',first=True).text.replace('\\nvotes','')"
   ]
  },
  {
   "cell_type": "code",
   "execution_count": 29,
   "metadata": {},
   "outputs": [],
   "source": [
    "def clean_scraped_data(text):\n",
    "    return text.replace('\\nvotes','')"
   ]
  },
  {
   "cell_type": "code",
   "execution_count": 30,
   "metadata": {},
   "outputs": [
    {
     "data": {
      "text/plain": [
       "{'question': 'Is there a way to retrieve the last month of a date from the current one?',\n",
       " 'votes': '0'}"
      ]
     },
     "execution_count": 30,
     "metadata": {},
     "output_type": "execute_result"
    }
   ],
   "source": [
    "datas = []\n",
    "for q_el in question_summaries:\n",
    "    question_data = {}\n",
    "    for i,_class in enumerate(classes_needed):\n",
    "        sub_el = q_el.find(_class,first=True)\n",
    "        keyname = key_names[i]\n",
    "        question_data[keyname] = clean_scraped_data(sub_el.text)\n",
    "    datas.append(question_data)\n",
    "\n",
    "datas[0]"
   ]
  },
  {
   "cell_type": "code",
   "execution_count": null,
   "metadata": {},
   "outputs": [],
   "source": []
  }
 ],
 "metadata": {
  "kernelspec": {
   "display_name": "Python 3",
   "language": "python",
   "name": "python3"
  },
  "language_info": {
   "codemirror_mode": {
    "name": "ipython",
    "version": 3
   },
   "file_extension": ".py",
   "mimetype": "text/x-python",
   "name": "python",
   "nbconvert_exporter": "python",
   "pygments_lexer": "ipython3",
   "version": "3.7.6"
  }
 },
 "nbformat": 4,
 "nbformat_minor": 4
}
